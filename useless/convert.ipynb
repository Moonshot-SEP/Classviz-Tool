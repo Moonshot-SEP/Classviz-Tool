{
 "cells": [
  {
   "cell_type": "code",
   "execution_count": 59,
   "metadata": {},
   "outputs": [],
   "source": [
    "param = {\n",
    "  \"input\": \"template.json\",        # path to neo4j json dump\n",
    "  \"output\": \"data/testinput.json\"  # path for output file; use \"data/<something>input.json\" \n",
    "                                   # so you can easily browse <viz_url>/?p=<something>\n",
    "}"
   ]
  },
  {
   "cell_type": "code",
   "execution_count": 60,
   "metadata": {},
   "outputs": [],
   "source": [
    "import json"
   ]
  },
  {
   "cell_type": "code",
   "execution_count": 61,
   "metadata": {},
   "outputs": [],
   "source": [
    "f = open(param['input'])\n",
    "data = json.load(f)\n",
    "f.close()"
   ]
  },
  {
   "cell_type": "code",
   "execution_count": 62,
   "metadata": {},
   "outputs": [],
   "source": [
    "def to_node(item):\n",
    "  return {\n",
    "      \"data\": {\n",
    "          \"id\": item['identity']['low'],\n",
    "          \"labels\": item['labels'],\n",
    "          \"properties\": item['properties']\n",
    "      }\n",
    "  }\n",
    "\n",
    "def to_edge(item):\n",
    "    return {\n",
    "        \"data\": {\n",
    "            \"id\": item['identity']['low'],\n",
    "            \"source\": item['start']['low'],\n",
    "            \"target\": item['end']['low'],\n",
    "            \"label\": item['type'],\n",
    "            \"properties\": item['properties']\n",
    "        }\n",
    "    }"
   ]
  },
  {
   "cell_type": "code",
   "execution_count": 63,
   "metadata": {},
   "outputs": [],
   "source": [
    "nodes = list()\n",
    "edges = list()\n",
    "for item in sum(list(map(lambda x: x['_fields'], data)), []):\n",
    "  item_nodes = [item['start'], item['end']] + sum([[i['start'],i['end']] for i in item['segments']], [])\n",
    "  for item_node in item_nodes:\n",
    "    node = to_node(item_node)\n",
    "    if not any(n['data']['id'] == node['data']['id'] for n in nodes):\n",
    "      nodes.append(node)\n",
    "  item_edges = [i['relationship'] for i in item['segments']]\n",
    "  for item_edge in item_edges:\n",
    "    edge = to_edge(item_edge)\n",
    "    if not any(e['data']['id'] == edge['data']['id'] for e in edges):\n",
    "      edges.append(edge)\n",
    "all = {\n",
    "  \"elements\": {\n",
    "    \"nodes\": nodes,\n",
    "    \"edges\": edges\n",
    "  }\n",
    "}\n",
    "\n",
    "with open(param['output'], 'w') as f:\n",
    "  json.dump(all, f)"
   ]
  }
 ],
 "metadata": {
  "kernelspec": {
   "display_name": "Python 3 (ipykernel)",
   "language": "python",
   "name": "python3"
  },
  "language_info": {
   "codemirror_mode": {
    "name": "ipython",
    "version": 3
   },
   "file_extension": ".py",
   "mimetype": "text/x-python",
   "name": "python",
   "nbconvert_exporter": "python",
   "pygments_lexer": "ipython3",
   "version": "3.10.12"
  },
  "vscode": {
   "interpreter": {
    "hash": "3aea9d04d643a3dad58bd6e15bcfdd921ab432a7c2b9a15d89f108cc0c05ed72"
   }
  }
 },
 "nbformat": 4,
 "nbformat_minor": 2
}
