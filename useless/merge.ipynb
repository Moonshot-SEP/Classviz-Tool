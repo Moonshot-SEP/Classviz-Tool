{
 "cells": [
  {
   "cell_type": "code",
   "execution_count": 9,
   "metadata": {},
   "outputs": [],
   "source": [
    "import json\n",
    "\n",
    "file1 = 'data/jhotdraw-traced.json'\n",
    "file2 = 'data/jhotdraw_vulnerabilities.json'\n",
    "ofile = 'data/jhotdraw-all.json'\n",
    "\n",
    "with open(file1, 'r') as file:\n",
    "  json1 = json.load(file)\n",
    "\n",
    "with open(file2, 'r') as file:\n",
    "  json2 = json.load(file)\n",
    "\n",
    "def merge_json_objects(json_data1, json_data2):\n",
    "  merged_json = {\n",
    "    \"elements\": {\n",
    "      \"nodes\": [],\n",
    "      \"edges\": []\n",
    "    }\n",
    "  }\n",
    "\n",
    "  # Merge nodes\n",
    "  nodes_map = {}\n",
    "  for node in json_data1[\"elements\"][\"nodes\"] + json_data2[\"elements\"][\"nodes\"]:\n",
    "    node_id = node[\"data\"][\"id\"]\n",
    "    if node_id not in nodes_map:\n",
    "      nodes_map[node_id] = node\n",
    "    else:\n",
    "      node1_labels = set(nodes_map[node_id]['data']['labels'])\n",
    "      node2_labels = set(node['data']['labels'])\n",
    "      nodes_map[node_id]['data']['labels'] = list(node1_labels.union(node2_labels))\n",
    "      nodes_map[node_id][\"data\"][\"properties\"].update(node[\"data\"][\"properties\"])\n",
    "  merged_json[\"elements\"][\"nodes\"] = list(nodes_map.values())\n",
    "\n",
    "  # Merge edges\n",
    "  edges_map = {}\n",
    "  for edge in json_data1[\"elements\"][\"edges\"] + json_data2[\"elements\"][\"edges\"]:\n",
    "    edge_id = edge[\"data\"][\"id\"]\n",
    "    if edge_id not in edges_map:\n",
    "      edges_map[edge_id] = edge\n",
    "    else:\n",
    "      edges_map[edge_id][\"data\"][\"properties\"].update(edge[\"data\"][\"properties\"])\n",
    "  merged_json[\"elements\"][\"edges\"] = list(edges_map.values())\n",
    "\n",
    "  return merged_json\n",
    "\n",
    "# Merge JSON objects\n",
    "merged_json_data = merge_json_objects(json1, json2)\n",
    "\n",
    "# Write JSON data to output file\n",
    "with open(ofile, 'w') as outfile:\n",
    "    json.dump(merged_json_data, outfile, indent=2)\n"
   ]
  }
 ],
 "metadata": {
  "kernelspec": {
   "display_name": "default",
   "language": "python",
   "name": "python3"
  },
  "language_info": {
   "codemirror_mode": {
    "name": "ipython",
    "version": 3
   },
   "file_extension": ".py",
   "mimetype": "text/x-python",
   "name": "python",
   "nbconvert_exporter": "python",
   "pygments_lexer": "ipython3",
   "version": "3.10.8"
  },
  "orig_nbformat": 4
 },
 "nbformat": 4,
 "nbformat_minor": 2
}
